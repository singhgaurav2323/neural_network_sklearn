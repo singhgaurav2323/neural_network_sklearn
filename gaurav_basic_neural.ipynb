{
 "cells": [
  {
   "cell_type": "code",
   "execution_count": 1,
   "metadata": {},
   "outputs": [],
   "source": [
    "# mimporting libraries\n",
    "\n",
    "import numpy as np\n",
    "import pandas as pd\n",
    "import matplotlib.pyplot as plt\n",
    "from sklearn.neural_network import MLPClassifier\n",
    "from sklearn.model_selection import train_test_split\n"
   ]
  },
  {
   "cell_type": "code",
   "execution_count": 2,
   "metadata": {},
   "outputs": [],
   "source": [
    "#import data set and preprocessing data\n",
    "import sklearn.datasets as da\n",
    "data = da.load_breast_cancer()\n",
    "\n",
    "label=data.feature_names\n",
    "x=data.data\n",
    "y=data.target\n",
    "\n",
    "X=pd.DataFrame(x)\n",
    "Y=pd.DataFrame(y)\n",
    "\n",
    "X.columns=label\n",
    "Y.columns=['diabetes']"
   ]
  },
  {
   "cell_type": "code",
   "execution_count": 3,
   "metadata": {},
   "outputs": [],
   "source": [
    "#splitting into test and train set\n",
    "\n",
    "train_X , test_X , train_Y , test_Y =train_test_split(X,Y,test_size=0.20,random_state=0)\n",
    "\n",
    "#feature sclaing\n",
    "from sklearn.preprocessing import StandardScaler\n",
    "sc_x=StandardScaler()\n",
    "train_X=sc_x.fit_transform(train_X)\n",
    "test_X=sc_x.fit_transform(test_X)"
   ]
  },
  {
   "cell_type": "code",
   "execution_count": 9,
   "metadata": {},
   "outputs": [
    {
     "name": "stderr",
     "output_type": "stream",
     "text": [
      "C:\\Users\\lab102-20\\Anaconda3\\lib\\site-packages\\sklearn\\neural_network\\multilayer_perceptron.py:916: DataConversionWarning: A column-vector y was passed when a 1d array was expected. Please change the shape of y to (n_samples, ), for example using ravel().\n",
      "  y = column_or_1d(y, warn=True)\n"
     ]
    },
    {
     "name": "stdout",
     "output_type": "stream",
     "text": [
      "the confusion matrix is \n",
      "[[46  1]\n",
      " [ 1 66]]\n"
     ]
    },
    {
     "name": "stderr",
     "output_type": "stream",
     "text": [
      "C:\\Users\\lab102-20\\Anaconda3\\lib\\site-packages\\sklearn\\neural_network\\multilayer_perceptron.py:562: ConvergenceWarning: Stochastic Optimizer: Maximum iterations (200) reached and the optimization hasn't converged yet.\n",
      "  % self.max_iter, ConvergenceWarning)\n"
     ]
    },
    {
     "data": {
      "text/plain": [
       "98.24561403508771"
      ]
     },
     "execution_count": 9,
     "metadata": {},
     "output_type": "execute_result"
    }
   ],
   "source": [
    "\n",
    "#building neural network model /relu activation function\n",
    "\n",
    "neural=MLPClassifier(hidden_layer_sizes=(50,50,) , activation=\"relu\" , alpha=0.001 , learning_rate=\"constant\" )\n",
    "neural.fit(train_X ,train_Y)\n",
    "neural.score(train_X ,train_Y)\n",
    "\n",
    "#evalutaing test result\n",
    "pred=neural.predict(test_X)\n",
    "\n",
    "from sklearn.metrics import accuracy_score ,confusion_matrix\n",
    "cm=confusion_matrix(test_Y,pred)\n",
    "print('the confusion matrix is ')\n",
    "print(cm)\n",
    "accuracy_score(test_Y,pred)*100"
   ]
  },
  {
   "cell_type": "code",
   "execution_count": 10,
   "metadata": {},
   "outputs": [
    {
     "name": "stderr",
     "output_type": "stream",
     "text": [
      "C:\\Users\\lab102-20\\Anaconda3\\lib\\site-packages\\sklearn\\neural_network\\multilayer_perceptron.py:916: DataConversionWarning: A column-vector y was passed when a 1d array was expected. Please change the shape of y to (n_samples, ), for example using ravel().\n",
      "  y = column_or_1d(y, warn=True)\n"
     ]
    },
    {
     "name": "stdout",
     "output_type": "stream",
     "text": [
      "the confusion matrix is \n",
      "[[45  2]\n",
      " [ 0 67]]\n"
     ]
    },
    {
     "name": "stderr",
     "output_type": "stream",
     "text": [
      "C:\\Users\\lab102-20\\Anaconda3\\lib\\site-packages\\sklearn\\neural_network\\multilayer_perceptron.py:562: ConvergenceWarning: Stochastic Optimizer: Maximum iterations (200) reached and the optimization hasn't converged yet.\n",
      "  % self.max_iter, ConvergenceWarning)\n"
     ]
    },
    {
     "data": {
      "text/plain": [
       "98.24561403508771"
      ]
     },
     "execution_count": 10,
     "metadata": {},
     "output_type": "execute_result"
    }
   ],
   "source": [
    "#building neural network model /tanh activation function\n",
    "\n",
    "neural=MLPClassifier(hidden_layer_sizes=(50,50,) , activation=\"tanh\" , alpha=0.001 , learning_rate=\"constant\" )\n",
    "neural.fit(train_X ,train_Y)\n",
    "neural.score(train_X ,train_Y)\n",
    "\n",
    "#evalutaing test result\n",
    "pred=neural.predict(test_X)\n",
    "\n",
    "from sklearn.metrics import accuracy_score ,confusion_matrix\n",
    "cm=confusion_matrix(test_Y,pred)\n",
    "print('the confusion matrix is ')\n",
    "print(cm)\n",
    "accuracy_score(test_Y,pred)*100"
   ]
  },
  {
   "cell_type": "code",
   "execution_count": 11,
   "metadata": {},
   "outputs": [
    {
     "name": "stderr",
     "output_type": "stream",
     "text": [
      "C:\\Users\\lab102-20\\Anaconda3\\lib\\site-packages\\sklearn\\neural_network\\multilayer_perceptron.py:916: DataConversionWarning: A column-vector y was passed when a 1d array was expected. Please change the shape of y to (n_samples, ), for example using ravel().\n",
      "  y = column_or_1d(y, warn=True)\n"
     ]
    },
    {
     "name": "stdout",
     "output_type": "stream",
     "text": [
      "the confusion matrix is \n",
      "[[45  2]\n",
      " [ 1 66]]\n"
     ]
    },
    {
     "name": "stderr",
     "output_type": "stream",
     "text": [
      "C:\\Users\\lab102-20\\Anaconda3\\lib\\site-packages\\sklearn\\neural_network\\multilayer_perceptron.py:562: ConvergenceWarning: Stochastic Optimizer: Maximum iterations (200) reached and the optimization hasn't converged yet.\n",
      "  % self.max_iter, ConvergenceWarning)\n"
     ]
    },
    {
     "data": {
      "text/plain": [
       "97.36842105263158"
      ]
     },
     "execution_count": 11,
     "metadata": {},
     "output_type": "execute_result"
    }
   ],
   "source": [
    "#building neural network model /logistic activation function\n",
    "\n",
    "neural=MLPClassifier(hidden_layer_sizes=(50,50,) , activation=\"logistic\" , alpha=0.001 , learning_rate=\"constant\" )\n",
    "neural.fit(train_X ,train_Y)\n",
    "neural.score(train_X ,train_Y)\n",
    "\n",
    "#evalutaing test result\n",
    "pred=neural.predict(test_X)\n",
    "\n",
    "from sklearn.metrics import accuracy_score ,confusion_matrix\n",
    "cm=confusion_matrix(test_Y,pred)\n",
    "print('the confusion matrix is ')\n",
    "print(cm)\n",
    "accuracy_score(test_Y,pred)*100"
   ]
  },
  {
   "cell_type": "code",
   "execution_count": 12,
   "metadata": {},
   "outputs": [
    {
     "name": "stderr",
     "output_type": "stream",
     "text": [
      "C:\\Users\\lab102-20\\Anaconda3\\lib\\site-packages\\sklearn\\neural_network\\multilayer_perceptron.py:916: DataConversionWarning: A column-vector y was passed when a 1d array was expected. Please change the shape of y to (n_samples, ), for example using ravel().\n",
      "  y = column_or_1d(y, warn=True)\n"
     ]
    },
    {
     "name": "stdout",
     "output_type": "stream",
     "text": [
      "the confusion matrix is \n",
      "[[45  2]\n",
      " [ 3 64]]\n"
     ]
    },
    {
     "data": {
      "text/plain": [
       "95.6140350877193"
      ]
     },
     "execution_count": 12,
     "metadata": {},
     "output_type": "execute_result"
    }
   ],
   "source": [
    "#building neural network model /identity activation function\n",
    "\n",
    "neural=MLPClassifier(hidden_layer_sizes=(50,50,) , activation=\"identity\" , alpha=0.001 , learning_rate=\"constant\" )\n",
    "neural.fit(train_X ,train_Y)\n",
    "neural.score(train_X ,train_Y)\n",
    "\n",
    "#evalutaing test result\n",
    "pred=neural.predict(test_X)\n",
    "\n",
    "from sklearn.metrics import accuracy_score ,confusion_matrix\n",
    "cm=confusion_matrix(test_Y,pred)\n",
    "print('the confusion matrix is ')\n",
    "print(cm)\n",
    "accuracy_score(test_Y,pred)*100"
   ]
  },
  {
   "cell_type": "code",
   "execution_count": null,
   "metadata": {},
   "outputs": [],
   "source": []
  }
 ],
 "metadata": {
  "kernelspec": {
   "display_name": "Python 3",
   "language": "python",
   "name": "python3"
  },
  "language_info": {
   "codemirror_mode": {
    "name": "ipython",
    "version": 3
   },
   "file_extension": ".py",
   "mimetype": "text/x-python",
   "name": "python",
   "nbconvert_exporter": "python",
   "pygments_lexer": "ipython3",
   "version": "3.7.1"
  }
 },
 "nbformat": 4,
 "nbformat_minor": 2
}
